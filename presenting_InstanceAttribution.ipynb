{
 "cells": [
  {
   "cell_type": "markdown",
   "metadata": {},
   "source": [
    "#### Instance attribution\n",
    "By running this code, you can retrieve the text to paste in the boxes and graph + table for the instance attribution Figma Prototype. \n",
    "Input: python list of claims and influence/annotation id pair \n",
    "\n",
    "Example:\n",
    "```\n",
    "[('claim_to_check',[(influence (float), 'annotationid'),(),()]),...]"
   ]
  },
  {
   "cell_type": "code",
   "execution_count": null,
   "metadata": {},
   "outputs": [],
   "source": [
    "# imports\n",
    "import numpy as np\n",
    "import pandas as pd\n",
    "import plotly.graph_objects as go\n",
    "from IPython.core.display import display\n",
    "import json\n"
   ]
  },
  {
   "cell_type": "code",
   "execution_count": null,
   "metadata": {},
   "outputs": [],
   "source": [
    "# retrieves data points from annotation id and returns in this format:\n",
    "'''\n",
    "[['claim_to_check',\n",
    "  [(influence(float), data_point),(influence(float), data_point]), ... ]), \n",
    "['claim_to_check',[(influence(float), data_point), ... ]),\n",
    "... ]\n",
    "\n",
    "data_point_example = {'annotation_id': 'String',\n",
    "     'classification': 'String',\n",
    "     'docids': ['String'],\n",
    "     'evidences': [[{'docid': 'Sting',\n",
    "        'end_sentence': int,\n",
    "        'end_token': int,\n",
    "        'start_sentence': int,\n",
    "        'start_token': int,\n",
    "        'text': 'String'}], ... more evidences ...]}\n",
    "'''\n",
    "def getWithDataPoints(influence_output, path_to_fever_data):\n",
    "    output_with_data = []\n",
    "    #return array of array of pairs (influence, datapoint dict)\n",
    "    for claim, datapoints in influence_output:\n",
    "        influence_data_pairs = []\n",
    "        for influence, annotation_id in datapoints:\n",
    "            with open(path_to_fever_data) as json_file:\n",
    "                documents = list(json_file)\n",
    "                for doc in documents:\n",
    "                    curr_dict = json.loads(doc)\n",
    "                    if curr_dict['annotation_id'] == annotation_id :\n",
    "                        influence_data_pairs.append((influence, curr_dict))\n",
    "        output_with_data.append([claim, influence_data_pairs])\n",
    "    return output_with_data"
   ]
  },
  {
   "cell_type": "code",
   "execution_count": null,
   "metadata": {},
   "outputs": [],
   "source": [
    "def printImportantData(claim, influence_data_pairs):\n",
    "    \n",
    "    print('Claim: ', claim)\n",
    "    \n",
    "    influence_values = np.empty(len(influence_data_pairs))\n",
    "\n",
    "    for i, data in enumerate(influence_data_pairs) : \n",
    "        print('Influence: '+ str(round(influence_values[i], 3)))\n",
    "        print('Classification: ' + str(data[1]['classification']))\n",
    "        print('Query: ' + data[1]['query'])\n",
    "        print('Context: ' + data[1]['evidences'][0][0]['text'])\n"
   ]
  },
  {
   "cell_type": "code",
   "execution_count": null,
   "metadata": {},
   "outputs": [],
   "source": [
    "def displayPlot(claim, influence_data_pairs):\n",
    "\n",
    "    influence_values = np.empty(len(influence_data_pairs))\n",
    "    queries = []\n",
    "    table = []\n",
    "    for i, data in enumerate(influence_data_pairs) : \n",
    "        influence_values[i] = data[0] if data[1]['classification'] == 'SUPPORTS' else -1*data[0]\n",
    "        queries.append(data[1]['query'])\n",
    "        table.append([queries[i],data[1]['evidences'][0][0]['text']])\n",
    "\n",
    "    head = [\"Query\", \"Context Snippet from Wikipedia\"]\n",
    "    df = pd.DataFrame(table, columns=head)\n",
    "    \n",
    "    abs_influence_values = abs(influence_values)\n",
    "\n",
    "    influence_plot = go.Figure(data=go.Scatter(x=queries, y=influence_values,\n",
    "        mode='markers',\n",
    "        # *100 for scaling\n",
    "        marker_size=abs_influence_values*100,\n",
    "        marker_cmin=-1,\n",
    "        marker_cmax=1,\n",
    "        marker_color=influence_values,\n",
    "        # same green and red as traffic light in figma\n",
    "        marker_colorscale=['rgb(239, 83, 80)','rgb(76, 175, 80)'],\n",
    "        marker_colorbar_bgcolor= 'rgb(255,255,255)'\n",
    "    ))\n",
    "    influence_plot.update_layout(\n",
    "        xaxis_title=\"Query\", \n",
    "        yaxis_title=\"Influence Score\",\n",
    "    )\n",
    "    influence_plot.update_yaxes(range=[-1, 1])\n",
    "    influence_plot.show()    \n",
    "    display(df)"
   ]
  },
  {
   "cell_type": "code",
   "execution_count": null,
   "metadata": {},
   "outputs": [
    {
     "ename": "FileNotFoundError",
     "evalue": "[Errno 2] No such file or directory: 'src/expred/dataset/fever/train.jsonl'",
     "output_type": "error",
     "traceback": [
      "\u001b[0;31m---------------------------------------------------------------------------\u001b[0m\n",
      "\u001b[0;31mFileNotFoundError\u001b[0m                         Traceback (most recent call last)\n",
      "\u001b[0;32m<ipython-input-108-f2fb36212043>\u001b[0m in \u001b[0;36m<module>\u001b[0;34m\u001b[0m\n",
      "\u001b[1;32m      1\u001b[0m \u001b[0;31m# After running this function the output can be used to copy/paste into Instance attribution Prototypes in Figma\u001b[0m\u001b[0;34m\u001b[0m\u001b[0;34m\u001b[0m\u001b[0;34m\u001b[0m\u001b[0m\n",
      "\u001b[0;32m----> 2\u001b[0;31m \u001b[0mclaim_influence_pairs\u001b[0m \u001b[0;34m=\u001b[0m \u001b[0mgetWithDataPoints\u001b[0m\u001b[0;34m(\u001b[0m\u001b[0mall_data\u001b[0m\u001b[0;34m)\u001b[0m\u001b[0;34m\u001b[0m\u001b[0;34m\u001b[0m\u001b[0m\n",
      "\u001b[0m\u001b[1;32m      3\u001b[0m \u001b[0;34m\u001b[0m\u001b[0m\n",
      "\u001b[1;32m      4\u001b[0m \u001b[0;32mfor\u001b[0m \u001b[0;34m(\u001b[0m\u001b[0mclaim\u001b[0m \u001b[0;34m,\u001b[0m \u001b[0minfluence_data_pairs\u001b[0m\u001b[0;34m)\u001b[0m \u001b[0;32min\u001b[0m \u001b[0mclaim_influence_pairs\u001b[0m\u001b[0;34m:\u001b[0m\u001b[0;34m\u001b[0m\u001b[0;34m\u001b[0m\u001b[0m\n",
      "\u001b[1;32m      5\u001b[0m     \u001b[0mprintImportantData\u001b[0m\u001b[0;34m(\u001b[0m\u001b[0mclaim\u001b[0m\u001b[0;34m,\u001b[0m \u001b[0minfluence_data_pairs\u001b[0m\u001b[0;34m)\u001b[0m\u001b[0;34m\u001b[0m\u001b[0;34m\u001b[0m\u001b[0m\n",
      "\n",
      "\u001b[0;32m<ipython-input-104-b7722ac528f6>\u001b[0m in \u001b[0;36mgetWithDataPoints\u001b[0;34m(influence_output)\u001b[0m\n",
      "\u001b[1;32m     22\u001b[0m         \u001b[0minfluence_data_pairs\u001b[0m \u001b[0;34m=\u001b[0m \u001b[0;34m[\u001b[0m\u001b[0;34m]\u001b[0m\u001b[0;34m\u001b[0m\u001b[0;34m\u001b[0m\u001b[0m\n",
      "\u001b[1;32m     23\u001b[0m         \u001b[0;32mfor\u001b[0m \u001b[0minfluence\u001b[0m\u001b[0;34m,\u001b[0m \u001b[0mannotation_id\u001b[0m \u001b[0;32min\u001b[0m \u001b[0mdatapoints\u001b[0m\u001b[0;34m:\u001b[0m\u001b[0;34m\u001b[0m\u001b[0;34m\u001b[0m\u001b[0m\n",
      "\u001b[0;32m---> 24\u001b[0;31m             \u001b[0;32mwith\u001b[0m \u001b[0mopen\u001b[0m\u001b[0;34m(\u001b[0m\u001b[0;34mf'src/expred/dataset/fever/train.jsonl'\u001b[0m\u001b[0;34m)\u001b[0m \u001b[0;32mas\u001b[0m \u001b[0mjson_file\u001b[0m\u001b[0;34m:\u001b[0m\u001b[0;34m\u001b[0m\u001b[0;34m\u001b[0m\u001b[0m\n",
      "\u001b[0m\u001b[1;32m     25\u001b[0m                 \u001b[0mdocuments\u001b[0m \u001b[0;34m=\u001b[0m \u001b[0mlist\u001b[0m\u001b[0;34m(\u001b[0m\u001b[0mjson_file\u001b[0m\u001b[0;34m)\u001b[0m\u001b[0;34m\u001b[0m\u001b[0;34m\u001b[0m\u001b[0m\n",
      "\u001b[1;32m     26\u001b[0m                 \u001b[0;32mfor\u001b[0m \u001b[0mdoc\u001b[0m \u001b[0;32min\u001b[0m \u001b[0mdocuments\u001b[0m\u001b[0;34m:\u001b[0m\u001b[0;34m\u001b[0m\u001b[0;34m\u001b[0m\u001b[0m\n",
      "\n",
      "\u001b[0;31mFileNotFoundError\u001b[0m: [Errno 2] No such file or directory: 'src/expred/dataset/fever/train.jsonl'"
     ]
    }
   ],
   "source": [
    "# After running this function the output can be used to copy/paste into Instance attribution Prototypes in Figma \n",
    "# Uncomment for example\n",
    "# knn_data = [('Nestor Carbonell played Godzilla in Lost.', [(0.4629100498862757, '162940'), (0.4629100498862757, '162939'), (0.43301270189221935, '162931'), (0.4082482904638631, '152253'), (0.4082482904638631, '14839')]), ('Ice-T was a rapper.', [(0.5999999999999999, '62005'), (0.47809144373375745, '127907'), (0.4743416490252569, '214700'), (0.46188021535170054, '7004'), (0.4472135954999579, '99268')])]\n",
    "\n",
    "claim_influence_pairs = getWithDataPoints(knn_data, path_to_fever_data)\n",
    "\n",
    "for (claim , influence_data_pairs) in claim_influence_pairs:\n",
    "    printImportantData(claim, influence_data_pairs)\n",
    "    displayPlot(claim,influence_data_pairs)"
   ]
  }
 ],
 "metadata": {
  "language_info": {
   "name": "python"
  },
  "orig_nbformat": 4
 },
 "nbformat": 4,
 "nbformat_minor": 2
}
